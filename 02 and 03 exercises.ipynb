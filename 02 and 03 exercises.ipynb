{
 "cells": [
  {
   "cell_type": "markdown",
   "id": "2d19f6f3",
   "metadata": {},
   "source": [
    "<b> 02 and 03 Exercises </b>"
   ]
  },
  {
   "cell_type": "markdown",
   "id": "fc841134",
   "metadata": {},
   "source": [
    "<b> 02 Exercises - Data Structures <b>"
   ]
  },
  {
   "cell_type": "markdown",
   "id": "62ff64de",
   "metadata": {},
   "source": [
    "Take the following two lists. Create a third list by picking a odd-index elements from the first list and even-index elements from the second.\n",
    "\n",
    "listOne = [3, 6, 9, 12, 15, 18, 21]\n",
    "listTwo = [4, 8, 12, 16, 20, 24, 28]"
   ]
  },
  {
   "cell_type": "code",
   "execution_count": 17,
   "id": "7554ca94",
   "metadata": {},
   "outputs": [
    {
     "name": "stdout",
     "output_type": "stream",
     "text": [
      "[6, 12, 18, 3, 9, 15, 21]\n"
     ]
    }
   ],
   "source": [
    "listOne = [3, 6, 9, 12, 15, 18, 21]\n",
    "listTwo = [4, 8, 12, 16, 20, 24, 28] \n",
    "newlist = listOne[1::2]+listOne[::2]\n",
    "\n",
    "print(newlist)\n",
    "\n",
    "\n"
   ]
  },
  {
   "cell_type": "markdown",
   "id": "6ab75264",
   "metadata": {},
   "source": [
    "Take the following list. Slice it into three equal chunks and reverse each list.\n",
    "\n",
    "sampleList = [11, 45, 8, 23, 14, 12, 78, 45, 89]"
   ]
  },
  {
   "cell_type": "code",
   "execution_count": 73,
   "id": "9f89b102",
   "metadata": {},
   "outputs": [
    {
     "name": "stdout",
     "output_type": "stream",
     "text": [
      "[8, 45, 11]\n",
      "[12, 14, 23]\n",
      "[89, 45, 78]\n"
     ]
    }
   ],
   "source": [
    "sampleList = [11, 45, 8, 23, 14, 12, 78, 45, 89]\n",
    "list1 = (sampleList[:3:])\n",
    "list2 = (sampleList[3:6:])\n",
    "list3 =  (sampleList[6::])\n",
    "list1.reverse()\n",
    "list2.reverse()\n",
    "list3.reverse()\n",
    "print(list1)\n",
    "print(list2)\n",
    "print(list3)\n"
   ]
  },
  {
   "cell_type": "markdown",
   "id": "eaa97400",
   "metadata": {},
   "source": [
    "Iterate through a given list and check if a given element already exists in a dictionary as a key’s value. If not, delete it from the list.\n",
    "\n",
    "rollNumber = [47, 64, 69, 37, 76, 83, 95, 97]\n",
    "sampleDict ={'Zach':47, 'Emma':69, 'Kelly':76, 'Jason':97}"
   ]
  },
  {
   "cell_type": "markdown",
   "id": "b9249698",
   "metadata": {},
   "source": [
    "Write a simple statement to check whether an element exists within a tuple."
   ]
  },
  {
   "cell_type": "code",
   "execution_count": 12,
   "id": "73cc5416",
   "metadata": {},
   "outputs": [
    {
     "name": "stdout",
     "output_type": "stream",
     "text": [
      "new rollNumber below\n",
      "[47, 69, 76, 97]\n",
      "Exists!\n"
     ]
    }
   ],
   "source": [
    "rollNumber = [47, 64, 69, 37, 76, 83, 95, 97] \n",
    "sampleDict ={'Zach':47, 'Emma':69, 'Kelly':76, 'Jason':97}\n",
    "\n",
    "\n",
    "sampleDict_values = sampleDict.values() # Get all values\n",
    "sampleDict_keys = sampleDict.keys() # Get all keys . not used \n",
    "\n",
    "for i in rollNumber[:]:\n",
    "    #print(i)\n",
    "    if i in sampleDict_values:\n",
    "        pass\n",
    "    else:       \n",
    "        rollNumber.remove(i)\n",
    "    \n",
    "print(\"new rollNumber below\")\n",
    "print(rollNumber)\n",
    "\n",
    "tups = ('Zach',47, 'Emma',69, 'Kelly',76, 'Jason',97)\n",
    "\n",
    "if \"Emma\" in  tups:\n",
    "        print(\"Exists!\")\n",
    "\n",
    "\n",
    "        "
   ]
  },
  {
   "cell_type": "markdown",
   "id": "9c3672b7",
   "metadata": {},
   "source": [
    "Write a Python function to multiply all the numbers in a list."
   ]
  },
  {
   "cell_type": "code",
   "execution_count": 4,
   "id": "ff578435",
   "metadata": {},
   "outputs": [
    {
     "name": "stdout",
     "output_type": "stream",
     "text": [
      "446391247745280\n"
     ]
    }
   ],
   "source": [
    "rollNumber = [47, 64, 69, 37, 76, 83, 95, 97]\n",
    "result = 1\n",
    "for i in rollNumber:\n",
    "    result = result * i\n",
    "#    print(result)\n",
    "print(result)    "
   ]
  },
  {
   "cell_type": "markdown",
   "id": "646b97a3",
   "metadata": {},
   "source": [
    "Write a Python program to reverse a string. Hint: Use indexing [start:stop:step]"
   ]
  },
  {
   "cell_type": "code",
   "execution_count": 66,
   "id": "5e35d7ac",
   "metadata": {},
   "outputs": [
    {
     "name": "stdout",
     "output_type": "stream",
     "text": [
      "[97, 95, 83, 76, 37, 69, 64, 47]\n"
     ]
    }
   ],
   "source": [
    "rollNumber = [47, 64, 69, 37, 76, 83, 95, 97]\n",
    "print(rollNumber[::-1])"
   ]
  },
  {
   "cell_type": "markdown",
   "id": "c825cadc",
   "metadata": {},
   "source": [
    "Describe the difference between floats, integers, and binarys. Bonus: Describe the difference between precision types (i.e float32 and float64) and the relationship it has with system memory."
   ]
  },
  {
   "cell_type": "markdown",
   "id": "6f0a85b0",
   "metadata": {},
   "source": [
    "In Python, floats, integers, and binaries are different data types used to represent numbers in different ways. Here's a description of each:\n",
    "\n",
    "Integers: Integers are whole numbers without any fractional or decimal parts. They can be positive, negative, or zero. In Python, integers are represented using the int data type. For example, 5, -10, and 0 are integers.\n",
    "\n",
    "Floats: Floats, short for floating-point numbers, are numbers that can have a fractional or decimal part. They are used to represent real numbers. In Python, floats are represented using the float data type. For example, 3.14, -2.5, and 0.0 are floats.\n",
    "\n",
    "Binaries: Binaries are a way of representing numbers using base-2, which means they are expressed using only the digits 0 and 1. In Python, binaries are represented as strings prefixed with 0b. For example, 0b1010 represents the binary number 10."
   ]
  },
  {
   "cell_type": "markdown",
   "id": "1105fac8",
   "metadata": {},
   "source": [
    "Describe the difference between a list, tuple, dict, and set."
   ]
  },
  {
   "cell_type": "markdown",
   "id": "6364a317",
   "metadata": {},
   "source": [
    "A list is a collection of ordered data. A tuple is an ordered collection of data. A set is an unordered collection. A dictionary is an unordered collection of data that stores data in key-value pairs."
   ]
  },
  {
   "cell_type": "markdown",
   "id": "85c3d93e",
   "metadata": {},
   "source": [
    "Describe 3 methods or functions that act upon a list, tuple, dict, and strings (12 total). If citing the same method, describe how it might behave differently between data."
   ]
  },
  {
   "cell_type": "markdown",
   "id": "9422d85e",
   "metadata": {},
   "source": [
    "list:append clear copy\n",
    "\n",
    "tuple: count index mro\n",
    "\n",
    "dict: clear copy get\n",
    "\n",
    "string: center count find"
   ]
  },
  {
   "cell_type": "markdown",
   "id": "8a435dab",
   "metadata": {},
   "source": [
    "<b> 03 Exercises - Control Flow <b>"
   ]
  },
  {
   "cell_type": "markdown",
   "id": "da83b7f2",
   "metadata": {},
   "source": [
    "Use a for-loop, iterate over a list, and print each item.\n",
    "\n",
    "list: [1,2,3,4,5,6,7,8,9]"
   ]
  },
  {
   "cell_type": "code",
   "execution_count": 34,
   "id": "4c789431",
   "metadata": {},
   "outputs": [
    {
     "name": "stdout",
     "output_type": "stream",
     "text": [
      "1\n",
      "2\n",
      "3\n",
      "4\n",
      "5\n",
      "6\n",
      "7\n",
      "8\n",
      "9\n"
     ]
    }
   ],
   "source": [
    "listNumbers = [1,2,3,4,5,6,7,8,9]\n",
    "length = len(listNumbers)\n",
    "for lN in range(length):\n",
    "    print(listNumbers[lN])"
   ]
  },
  {
   "cell_type": "markdown",
   "id": "4e0e9e7c",
   "metadata": {},
   "source": [
    "Using the last code you wrote, print whether the item is even or odd. Hint: Use an if-else sequence and modulus condition."
   ]
  },
  {
   "cell_type": "code",
   "execution_count": 9,
   "id": "84d6a899",
   "metadata": {},
   "outputs": [
    {
     "name": "stdout",
     "output_type": "stream",
     "text": [
      "1 is Odd\n",
      "2 is Even\n",
      "3 is Odd\n",
      "4 is Even\n",
      "5 is Odd\n",
      "6 is Even\n",
      "7 is Odd\n",
      "8 is Even\n",
      "9 is Odd\n"
     ]
    }
   ],
   "source": [
    "listNumbers = [1,2,3,4,5,6,7,8,9]\n",
    "length = len(listNumbers)\n",
    "for lN in range(length):\n",
    "   # print(listNumbers[lN])\n",
    "    if(listNumbers[lN] % 2):\n",
    "        print (str(listNumbers[lN])+ \" is Odd\")\n",
    "    else :\n",
    "        print (str(listNumbers[lN])+ \" is Even\")"
   ]
  },
  {
   "cell_type": "markdown",
   "id": "277a4c8d",
   "metadata": {},
   "source": [
    "Using the last code you wrote, break out of the sequence when the for iteration count is greater than 7. Bonus: Make it break out when the prime number count equals 4 (1,2,3, and 7). "
   ]
  },
  {
   "cell_type": "code",
   "execution_count": 27,
   "id": "3ff4656d",
   "metadata": {},
   "outputs": [
    {
     "name": "stdout",
     "output_type": "stream",
     "text": [
      "1\n",
      "Odd\n",
      "2\n",
      "even\n",
      "3\n",
      "Odd\n",
      "4\n",
      "even\n",
      "5\n",
      "Odd\n",
      "6\n",
      "even\n",
      "7\n",
      "Odd\n"
     ]
    }
   ],
   "source": [
    "listNumbers = [1,2,3,4,5,6,7,8,9]\n",
    "length = len(listNumbers)\n",
    "count = 0\n",
    "for lN in range(length):\n",
    "    count += 1\n",
    "    print(listNumbers[lN])\n",
    "    if(listNumbers[lN] % 2):\n",
    "        print (\"Odd\")\n",
    "    else :\n",
    "        print (\"even\")\n",
    "    if(count > 6):\n",
    "      break    "
   ]
  },
  {
   "cell_type": "markdown",
   "id": "ee8768f5",
   "metadata": {},
   "source": [
    "BONUS"
   ]
  },
  {
   "cell_type": "markdown",
   "id": "220bede0",
   "metadata": {},
   "source": [
    "TBD later"
   ]
  },
  {
   "cell_type": "markdown",
   "id": "9cb145d6",
   "metadata": {},
   "source": [
    "Guess a number between 1 to 9 given by the user. Hint: Look into the \"random\" function."
   ]
  },
  {
   "cell_type": "markdown",
   "id": "008b5dc7",
   "metadata": {},
   "source": [
    "Write a python function that generates a random number 1-9, then requires the user to input a guess. If the guess is wrong, output \"wrong\" and request another input. If the guess is correct, output \"correct.\" Hint: Look into the \"random\" function."
   ]
  },
  {
   "cell_type": "code",
   "execution_count": 1,
   "id": "c0ed71db",
   "metadata": {},
   "outputs": [
    {
     "name": "stdout",
     "output_type": "stream",
     "text": [
      "4\n",
      "Guess a number4\n",
      "Hurray you guess is correct\n"
     ]
    }
   ],
   "source": [
    "import random\n",
    "num = random.random()*10\n",
    "intNum = int(num)\n",
    "#print(intNum)\n",
    "iGuess = input (\"Guess a number\")\n",
    "if(int(iGuess) == intNum):\n",
    "    print (\"Hurray you guess is correct\")\n",
    "else :\n",
    "    print (\"Wrong number is %x \" %intNum)\n"
   ]
  },
  {
   "cell_type": "markdown",
   "id": "50163b68",
   "metadata": {},
   "source": [
    "Check the validity of password input by the user. It must pass these tests:\n",
    "\n",
    "Minimum of 1 letter between [a-z] and 1 letter between [A-Z]\n",
    "\n",
    "Minimum of 1 number between [0-9]\n",
    "\n",
    "Minimum of 1 character from [$#@]\n",
    "\n",
    "Minimum of 6 total characters\n",
    "\n",
    "Maximum of 16 characters"
   ]
  },
  {
   "cell_type": "code",
   "execution_count": null,
   "id": "088a1972",
   "metadata": {},
   "outputs": [],
   "source": [
    "inPass = input(\"Type in your password: \")\n",
    "list1 = list(inPass)\n",
    "listSpecials = ['$','#','@']\n",
    "\n",
    "if (len(list1) > 6  and len(list1) < 16):\n",
    "  \n",
    "    digitflag = False #has number\n",
    "    lowerflag = False # has lower\n",
    "    upperflag = False # has upper\n",
    "    specflag = False # has spec character\n",
    "\n",
    "    for i in list1 :\n",
    "        print(type(i))\n",
    "        if i.isdigit():\n",
    "            digitflag = True\n",
    "        #if (not i.isalnum()) :\n",
    "        if i in listSpecials:\n",
    "            specflag = True\n",
    "        if (i.islower) :\n",
    "            specflag = True        \n",
    "        if (i.isupper) :\n",
    "            upperflag = True \n",
    "    print(digitflag)\n",
    "    print(specflag)\n",
    "    print(specflag)\n",
    "    print(upperflag)\n",
    "\n",
    "\n",
    "    if(digitflag and specflag and specflag and upperflag) :\n",
    "        print(\" password is perfect just like you\")\n",
    "    else :\n",
    "        print (\"password not perfect like your neighbor\")\n",
    "else :\n",
    "    print (\"password not perfect like your neighbor needs to be between 6 and 16\")"
   ]
  },
  {
   "cell_type": "markdown",
   "id": "57d4ce96",
   "metadata": {},
   "source": [
    "Get input of the age of 3 people by user and determine oldest and youngest among them"
   ]
  },
  {
   "cell_type": "code",
   "execution_count": 7,
   "id": "f8ebc6bb",
   "metadata": {},
   "outputs": [
    {
     "name": "stdout",
     "output_type": "stream",
     "text": [
      "Enter name followed by age jenn 56\n",
      "Enter name followed by age jeff 23\n",
      "Enter name followed by age todd 55\n",
      "Lowest Age is for jeff\n",
      "Highest  Age is for jenn\n"
     ]
    }
   ],
   "source": [
    "inDir = {}\n",
    "lowAge = 500\n",
    "higAge = 0\n",
    "lowAgeName =\"\"\n",
    "higAgeName = \"\"\n",
    "for x in range(3): \n",
    "    inName , inAge = (input (\"Enter name followed by age \")).split(\" \")\n",
    "    inDir.update ({inName : inAge})\n",
    "    intinAge = int(inAge)\n",
    "    if(intinAge < lowAge):\n",
    "        lowAge = intinAge\n",
    "    if(intinAge > higAge):\n",
    "        higAge = intinAge\n",
    "        \n",
    "#print(inDir)\n",
    "#print (str(lowAge))\n",
    "#print (str(higAge))\n",
    "for key, value in inDir.items():\n",
    "      #print(key)\n",
    "      #print(value)  \n",
    "      if str(lowAge) == value:\n",
    "         lowAgeName = key\n",
    "      if str(higAge) == value:\n",
    "          higAgeName = key\n",
    "            \n",
    "    \n",
    "print (\"Lowest Age is for \"+lowAgeName)\n",
    "\n",
    "print (\"Highest  Age is for \"+higAgeName)"
   ]
  },
  {
   "cell_type": "markdown",
   "id": "49683521",
   "metadata": {},
   "source": [
    "A student will not be allowed to sit in exam if his/her attendance is less than 75%. Print percentage of class attended.\n",
    "\n",
    "Take following input from user: number of classes held, number of classes attended\n",
    "\n",
    "Is student is allowed to sit in exam or not?"
   ]
  },
  {
   "cell_type": "code",
   "execution_count": 19,
   "id": "6a713967",
   "metadata": {},
   "outputs": [
    {
     "name": "stdout",
     "output_type": "stream",
     "text": [
      "Enter number of classes held followed by number of classes attended 100 45\n",
      "45.0\n",
      " Sorry Can't do\n"
     ]
    }
   ],
   "source": [
    "canAttend = True\n",
    "inTotal , inAttended = (input (\"Enter number of classes held followed by number of classes attended \")).split(\" \")\n",
    "print((int(inAttended)/ int(inTotal)*100))\n",
    "if (int(inAttended)/ int(inTotal)*100) < 75:\n",
    "    canAttend = False\n",
    "if canAttend :\n",
    "    print (\" Great News you can sit in exam \")\n",
    "else :\n",
    "    print (\" Sorry Can't do\")"
   ]
  },
  {
   "cell_type": "markdown",
   "id": "9809d83e",
   "metadata": {},
   "source": [
    "Get an integer N from the user and perform the following actions:\n",
    "\n",
    "if N is odd, print \"weird\"\n",
    "\n",
    "if N is even and in the inclusive range of 2 to 5, print \"Not Weird\"\n",
    "\n",
    "if N is even and in the inclusive range of 6 to 20, print \"Weird\"\n",
    "\n",
    "if N is even and greater than 20, print \"Not Weird\""
   ]
  },
  {
   "cell_type": "code",
   "execution_count": 20,
   "id": "5ae304c1",
   "metadata": {},
   "outputs": [
    {
     "name": "stdout",
     "output_type": "stream",
     "text": [
      "Give me an integer22\n",
      "Not Weird -- greater than 20\n",
      "Done\n"
     ]
    }
   ],
   "source": [
    "userIn = input (\"Give me an integer please \")\n",
    "userIn = int(userIn)\n",
    "if(userIn % 2 != 0):\n",
    "    print (\"Weird -- odd\")\n",
    "else:    \n",
    "    if(userIn in range(2,5)):\n",
    "        print (\"Not Weird -- in the inclusive range of 2 to 5\")\n",
    "    elif(userIn in range(6,21)):\n",
    "        print (\"Weird -- in the inclusive range of 6 to 20\")\n",
    "    elif(userIn > 20):\n",
    "        print (\"Not Weird -- greater than 20\")\n",
    "print(\"Done\")"
   ]
  },
  {
   "cell_type": "markdown",
   "id": "4981afa6",
   "metadata": {},
   "source": [
    "Define \"recursion\""
   ]
  },
  {
   "cell_type": "markdown",
   "id": "c25a7bf4",
   "metadata": {},
   "source": [
    "In Python, it's also possible for a function to call itself! A function that calls itself is said to be recursive, and the technique of employing a recursive function is called recursion"
   ]
  },
  {
   "cell_type": "markdown",
   "id": "37446795",
   "metadata": {},
   "source": [
    "Describe the difference between a for-loop and while-loop"
   ]
  },
  {
   "cell_type": "markdown",
   "id": "f8045283",
   "metadata": {},
   "source": [
    "Ans: For loop is used when the number of iterations is already known. While loop is used when the number of iterations is already Unknown. "
   ]
  },
  {
   "cell_type": "markdown",
   "id": "a4726330",
   "metadata": {},
   "source": [
    "Describe what \"global i\" refers to in the following code, and how it differs from local i."
   ]
  },
  {
   "cell_type": "code",
   "execution_count": 6,
   "id": "2c17bb30",
   "metadata": {},
   "outputs": [
    {
     "name": "stdout",
     "output_type": "stream",
     "text": [
      "2\n",
      "5\n",
      "5\n"
     ]
    }
   ],
   "source": [
    "i=2 # This is a global variable\n",
    "print(i)\n",
    "\n",
    "def nothing():# This function modifies the global variable 'i'\n",
    "    global i \n",
    "      # rebind the global i variable\n",
    "    i=5    # Now the global value is set to 5\n",
    "    print(i)\n",
    "nothing()\n",
    "print(i)"
   ]
  },
  {
   "cell_type": "markdown",
   "id": "99bbec99",
   "metadata": {},
   "source": [
    "Comment the following code."
   ]
  },
  {
   "cell_type": "code",
   "execution_count": 4,
   "id": "181d5fa6",
   "metadata": {},
   "outputs": [
    {
     "name": "stdout",
     "output_type": "stream",
     "text": [
      "[1, 1, 2, 3, 5, 8, 13, 21, 34, 55, 89]\n"
     ]
    }
   ],
   "source": [
    "a, b = 0, 1 # setting the value for a =0 and b = 1\n",
    "amax = 100 # Setting the max value to be 100\n",
    "L = [] # declaring a list L\n",
    "\n",
    "while True: # This loop will continue till a break\n",
    "    (a, b) = (b, a + b) #0,1 = 1, 0+1\n",
    "    if a > amax: # Check to see if a is greater than 100 then break from the while loop\n",
    "        break\n",
    "    L.append(a)\n",
    "\n",
    "print(L)"
   ]
  },
  {
   "cell_type": "markdown",
   "id": "f417cd5b",
   "metadata": {},
   "source": [
    "<b> Bonus Exercises </b>"
   ]
  },
  {
   "cell_type": "markdown",
   "id": "5eea9b56",
   "metadata": {},
   "source": [
    "Bonus: Write a Python function to convert a tuple to a string."
   ]
  },
  {
   "cell_type": "code",
   "execution_count": 22,
   "id": "dd50e2f8",
   "metadata": {},
   "outputs": [],
   "source": [
    "def convTup2Str (inTup):\n",
    "    outStrin = \"\"\n",
    "    for x in inTup :\n",
    "       outStrin = outStrin+ str(x)\n",
    "    return outStrin    \n",
    "\n",
    "\n",
    "\n",
    "    \n"
   ]
  },
  {
   "cell_type": "markdown",
   "id": "8b6604eb",
   "metadata": {},
   "source": [
    "Bonus: Write a Python program to print a tuple with string formatting. You will need to look into print function parameters and string formatting methods."
   ]
  },
  {
   "cell_type": "code",
   "execution_count": 23,
   "id": "10aa0dab",
   "metadata": {},
   "outputs": [
    {
     "name": "stdout",
     "output_type": "stream",
     "text": [
      "1234\n"
     ]
    }
   ],
   "source": [
    "def convTup2Str (inTup):\n",
    "    outStrin = \"\"\n",
    "    for x in inTup :\n",
    "       outStrin = outStrin+ str(x)\n",
    "    return outStrin    \n",
    "\n",
    "print (convTup2Str ((1,2,3,4)))"
   ]
  },
  {
   "cell_type": "markdown",
   "id": "d22b9747",
   "metadata": {},
   "source": [
    "Bonus: Define what a \"hash\" is. Then, get a space-separated list of integers from the user, create a tuple of those integers. Then compute and print the result of hash(tuple).  [Hint](https://docs.python.org/3/library/functions.html#hash). **Hash()**\n",
    "\n",
    "A **[hash](https://en.wikipedia.org/wiki/Hash_function)** is an fixed sized integer that identifies a particular value. Each value needs to have its own hash, so for the same value you will get the same hash even if it's not the same object."
   ]
  },
  {
   "cell_type": "code",
   "execution_count": null,
   "id": "b9ccab42",
   "metadata": {},
   "outputs": [],
   "source": [
    "def "
   ]
  },
  {
   "cell_type": "markdown",
   "id": "4cf6ba94",
   "metadata": {},
   "source": [
    "Bonus: In mathematics, the quadratic equation ax2+bx+c=0 can be solved with the formula x=−b±√((b2−4ac)/2a).\n",
    "\n",
    "Write a function solve_quadratic, that returns both solutions of a generic quadratic as a pair (2-tuple) when the coefficients are given as parameters. It should work like this:\n",
    "\n",
    "print(solve_quadratic(1,-3,2))\n",
    "(2.0,1.0)\n",
    "print(solve_quadratic(1,2,1))\n",
    "(-1.0,-1.0)\n",
    "You may want to use the math.sqrt function from the math module in your solution. Test that your function works in the main function!"
   ]
  },
  {
   "cell_type": "code",
   "execution_count": null,
   "id": "23b36302",
   "metadata": {},
   "outputs": [],
   "source": []
  },
  {
   "cell_type": "markdown",
   "id": "09eb1a66",
   "metadata": {},
   "source": [
    "Bonus: Write a Python function that accepts a string and calculate the number of upper case letters and lower case letters."
   ]
  },
  {
   "cell_type": "code",
   "execution_count": null,
   "id": "fb698d22",
   "metadata": {},
   "outputs": [],
   "source": []
  },
  {
   "cell_type": "markdown",
   "id": "9c555a0e",
   "metadata": {},
   "source": [
    "<b> Final Bonus: Recursion </b>\n",
    "\n",
    "Tower of Hanoi (Python Program)\n",
    "\n",
    "Tower of Hanoi is a mathematical puzzle where we have three rods and n disks. The objective of the puzzle is to move the entire stack to another rod, obeying the following simple rules:\n",
    "\n",
    "Only one disk can be moved at a time.\n",
    "Each move consists of taking the upper disk from one of the stacks and placing it on top of another stack i.e. a disk can only be moved if it is the uppermost disk on a stack.\n",
    "No disk may be placed on top of a smaller disk.\n",
    "Note: Transferring the top n-1 disks from source rod to Auxilliary rod can again be thought of as a fresh problem and can be solved in the same manner.\n",
    "\n",
    "See image and solution in Notebook-Python-0303. "
   ]
  },
  {
   "cell_type": "code",
   "execution_count": null,
   "id": "6640ab46",
   "metadata": {},
   "outputs": [],
   "source": []
  }
 ],
 "metadata": {
  "kernelspec": {
   "display_name": "Python 3 (ipykernel)",
   "language": "python",
   "name": "python3"
  },
  "language_info": {
   "codemirror_mode": {
    "name": "ipython",
    "version": 3
   },
   "file_extension": ".py",
   "mimetype": "text/x-python",
   "name": "python",
   "nbconvert_exporter": "python",
   "pygments_lexer": "ipython3",
   "version": "3.10.9"
  }
 },
 "nbformat": 4,
 "nbformat_minor": 5
}
